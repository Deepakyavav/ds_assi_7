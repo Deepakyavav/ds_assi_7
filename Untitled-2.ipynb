{
 "cells": [
  {
   "attachments": {},
   "cell_type": "markdown",
   "metadata": {},
   "source": [
    "# 1"
   ]
  },
  {
   "cell_type": "code",
   "execution_count": 62,
   "metadata": {},
   "outputs": [
    {
     "name": "stdout",
     "output_type": "stream",
     "text": [
      "Valid Password\n"
     ]
    }
   ],
   "source": [
    "import string\n",
    "\n",
    "str=input(\"Enter the password\")\n",
    "\n",
    "if len(str)>=10:\n",
    "    t1=True\n",
    "else:\n",
    "    t1=False\n",
    "\n",
    "a1=string.ascii_lowercase\n",
    "a2=string.ascii_uppercase\n",
    "\n",
    "c1=0\n",
    "c2=0\n",
    "for i in str:\n",
    "    if i in a1:\n",
    "        c1+=1\n",
    "    if i in a2:\n",
    "        c2+=1\n",
    "if c1>=2 and c2>=2:\n",
    "    t2=True\n",
    "else:\n",
    "    t2=False\n",
    "\n",
    "n1='1234567890'\n",
    "\n",
    "c1=0\n",
    "c2=0\n",
    "\n",
    "for i in str:\n",
    "    if i in n1:\n",
    "        c1+=1\n",
    "    if i in string.punctuation:\n",
    "        c2+=1\n",
    "if c1>0 and c2>0:\n",
    "    t3=True\n",
    "else:\n",
    "    t3=False\n",
    "\n",
    "\n",
    "if t1 and t2 and t3:\n",
    "    print(\"Valid Password\")\n",
    "else:\n",
    "    print(\"Invalid Password\")\n"
   ]
  },
  {
   "attachments": {},
   "cell_type": "markdown",
   "metadata": {},
   "source": [
    "# 2"
   ]
  },
  {
   "cell_type": "code",
   "execution_count": 82,
   "metadata": {},
   "outputs": [
    {
     "name": "stdout",
     "output_type": "stream",
     "text": [
      "True\n"
     ]
    },
    {
     "data": {
      "text/plain": [
       "False"
      ]
     },
     "execution_count": 82,
     "metadata": {},
     "output_type": "execute_result"
    }
   ],
   "source": [
    "# 1\n",
    "x = lambda str,k : True if str[0]==k else False\n",
    "print(x('data','d'))\n",
    "x('sci','d')"
   ]
  },
  {
   "cell_type": "code",
   "execution_count": 88,
   "metadata": {},
   "outputs": [
    {
     "name": "stdout",
     "output_type": "stream",
     "text": [
      "True\n",
      "False\n"
     ]
    }
   ],
   "source": [
    "# 2\n",
    "\n",
    "import string\n",
    "str=\"123\"\n",
    "str1=\"file\"\n",
    "x=lambda str : str.isnumeric()\n",
    "print(x(str))\n",
    "print(x(str1))"
   ]
  },
  {
   "cell_type": "code",
   "execution_count": 90,
   "metadata": {},
   "outputs": [
    {
     "data": {
      "text/plain": [
       "[('orange', 80), ('mango', 99), ('grapes', 1000)]"
      ]
     },
     "execution_count": 90,
     "metadata": {},
     "output_type": "execute_result"
    }
   ],
   "source": [
    "# 3\n",
    "def fun(l):\n",
    "    l.sort(key=lambda x:x[1])\n",
    "    return l\n",
    "l=[(\"mango\",99),(\"orange\",80), (\"grapes\", 1000)]\n",
    "fun(l)"
   ]
  },
  {
   "cell_type": "code",
   "execution_count": 91,
   "metadata": {},
   "outputs": [
    {
     "name": "stdout",
     "output_type": "stream",
     "text": [
      "[1, 4, 9, 16, 25, 36, 49, 64, 81, 100]\n"
     ]
    }
   ],
   "source": [
    "# 4\n",
    "\n",
    "def sq(x):\n",
    "    return x*x\n",
    "l1=list(range(1,11))\n",
    "l=list(map(sq,l1))\n",
    "print(l)"
   ]
  },
  {
   "cell_type": "code",
   "execution_count": 95,
   "metadata": {},
   "outputs": [
    {
     "name": "stdout",
     "output_type": "stream",
     "text": [
      "[1.0, 1.2599210498948732, 1.4422495703074083, 1.5874010519681994, 1.7099759466766968, 1.8171205928321397, 1.912931182772389, 2.0, 2.080083823051904]\n"
     ]
    }
   ],
   "source": [
    "# 5\n",
    "\n",
    "def cubr(x):\n",
    "    return x**(1/3)\n",
    "l=list(range(1,10))\n",
    "l1=list(map(cubr,l))\n",
    "print(l1)"
   ]
  },
  {
   "cell_type": "code",
   "execution_count": 97,
   "metadata": {},
   "outputs": [
    {
     "data": {
      "text/plain": [
       "True"
      ]
     },
     "execution_count": 97,
     "metadata": {},
     "output_type": "execute_result"
    }
   ],
   "source": [
    "# 6\n",
    "even = lambda x:True if x%2==0 else False\n",
    "even(10)"
   ]
  },
  {
   "cell_type": "code",
   "execution_count": 100,
   "metadata": {},
   "outputs": [
    {
     "name": "stdout",
     "output_type": "stream",
     "text": [
      "[1, 3, 5, 7, 9]\n"
     ]
    }
   ],
   "source": [
    "# 7\n",
    "def odd(x):\n",
    "    if x%2==1:\n",
    "        return True\n",
    "    else:\n",
    "        False\n",
    "l=list(range(1,11))\n",
    "l1=list(filter(odd,l))\n",
    "print(l1)"
   ]
  },
  {
   "cell_type": "code",
   "execution_count": 104,
   "metadata": {},
   "outputs": [
    {
     "name": "stdout",
     "output_type": "stream",
     "text": [
      "[0, 1, 2, 3, 4, 5, 6]\n",
      "[-5, -4, -3, -2, -1]\n"
     ]
    }
   ],
   "source": [
    "# 8\n",
    "l=[1,2,3,4,5,6,-1,-2,-3,-4,-5,0]\n",
    "def posetive(x):\n",
    "    if x>=0:\n",
    "        return True\n",
    "def Negative(x):\n",
    "    if x<0:\n",
    "        return True\n",
    "l1=list(filter(posetive,l))\n",
    "l1.sort()\n",
    "l2=list(filter(Negative,l))\n",
    "l2.sort()\n",
    "print(l1)\n",
    "print(l2)"
   ]
  }
 ],
 "metadata": {
  "language_info": {
   "name": "python"
  },
  "orig_nbformat": 4
 },
 "nbformat": 4,
 "nbformat_minor": 2
}
